{
  "nbformat": 4,
  "nbformat_minor": 0,
  "metadata": {
    "colab": {
      "provenance": [],
      "authorship_tag": "ABX9TyMH9koh/LnMlRJXQ55E3Gji",
      "include_colab_link": true
    },
    "kernelspec": {
      "name": "python3",
      "display_name": "Python 3"
    },
    "language_info": {
      "name": "python"
    }
  },
  "cells": [
    {
      "cell_type": "markdown",
      "metadata": {
        "id": "view-in-github",
        "colab_type": "text"
      },
      "source": [
        "<a href=\"https://colab.research.google.com/github/DebugWithNazi/Machine-Learning-Course/blob/main/Machine_Learning_lecture2.ipynb\" target=\"_parent\"><img src=\"https://colab.research.google.com/assets/colab-badge.svg\" alt=\"Open In Colab\"/></a>"
      ]
    },
    {
      "cell_type": "markdown",
      "source": [
        "**What are Tensors?**\n",
        "\n",
        "    -> a data structure\n",
        "\n",
        "    -> a container for numbers\n",
        "\n",
        "    -> zero-dimention is scalar, list of numbers called a vector, rows and columns called 2 dimention and so on, so these all are tensors"
      ],
      "metadata": {
        "id": "sQwRYc0DQPuq"
      }
    },
    {
      "cell_type": "markdown",
      "source": [
        "**0-d tensor/scalar:**\n",
        "if we store single number, its called 0-d tensor or scalar.\n",
        "\n",
        "[8], [10] are 0-d tensors\n",
        "\n",
        "( n-dimensional array is actually called tensor )"
      ],
      "metadata": {
        "id": "pm8B4Da9RKE5"
      }
    },
    {
      "cell_type": "markdown",
      "source": [
        "**1-D tensor/ vector / 1-D array:** like [1,2,3,4,5]\n",
        "\n",
        "**note:** now axis means dimensions, no. of axis is also called rank sometimes\n"
      ],
      "metadata": {
        "id": "SFThwOr6Rycx"
      }
    },
    {
      "cell_type": "code",
      "execution_count": null,
      "metadata": {
        "colab": {
          "base_uri": "https://localhost:8080/"
        },
        "id": "2oCcNPlzQNOT",
        "outputId": "c74b7bc2-c5a7-4209-d197-422c5bef8d9e"
      },
      "outputs": [
        {
          "output_type": "stream",
          "name": "stdout",
          "text": [
            "0\n",
            "1\n"
          ]
        }
      ],
      "source": [
        "import numpy as np\n",
        "\n",
        "arr0d = np.array(43)\n",
        "print(arr0d.ndim)\n",
        "\n",
        "arr1d = np.array([1,2,3,4]) # now this is one-d tensor but it is 4-d vector, why? bcz this vector have 4 elements in it\n",
        "print(arr1d.ndim)\n",
        "\n"
      ]
    },
    {
      "cell_type": "markdown",
      "source": [
        "**2-d tensors/matrics:** matrices are nothing, but collections of vectors (in rows and columns)\n"
      ],
      "metadata": {
        "id": "PQiBSATpTgjc"
      }
    },
    {
      "cell_type": "code",
      "source": [
        "arr2d = np.array([[1,2,3],[4,5,6],[7,8,9]])\n",
        "print(arr2d)"
      ],
      "metadata": {
        "colab": {
          "base_uri": "https://localhost:8080/"
        },
        "id": "0pppPRnnTvGl",
        "outputId": "9a1db0ea-0c73-4838-f270-35748d357b9f"
      },
      "execution_count": null,
      "outputs": [
        {
          "output_type": "stream",
          "name": "stdout",
          "text": [
            "[[1 2 3]\n",
            " [4 5 6]\n",
            " [7 8 9]]\n"
          ]
        }
      ]
    },
    {
      "cell_type": "markdown",
      "source": [
        "**Note:**\n",
        "\n",
        "     -> no. of axis = rank = no. of dimentions\n",
        "\n",
        "     -> shape = how many items in particular axis, like 2 elements in rows and 3 elements in columns\n",
        "\n",
        "     -> Size of a tensor = multiply shape elements (shape = (3*2) then size = 6, means 6 elements will store in this tensor)\n"
      ],
      "metadata": {
        "id": "HSci0qECU5JP"
      }
    },
    {
      "cell_type": "markdown",
      "source": [
        "Examples:\n",
        "\n",
        "1-D tensor → Just a simple list of numbers. Shape: (5)\n",
        "Example: [1, 2, 3, 4, 5]\n",
        "\n",
        "2-D tensor → Like a matrix (rows × columns). Shape: (2, 3)\n",
        "Example: [[1, 2, 3], [3, 4, 5]]\n",
        "\n",
        "3-D tensor → A stack of matrices. Shape: (2, 2, 3)\n",
        "Example: [[[1, 2, 3], [3, 4, 5]], [[3, 4, 5], [6, 7, 8]]]\n",
        "\n",
        "4-D tensor → Often used for image batches. Shape example: (5, 3, 4, 4)\n",
        "\n",
        "5 → number of images\n",
        "\n",
        "3 → channels (e.g., RGB)\n",
        "\n",
        "4 × 4 → height × width\n",
        "\n",
        "5-D tensor → Often used for video batches. Shape example: (400, 2, 45, 5, 6)\n",
        "\n",
        "400 → number of videos\n",
        "\n",
        "2 → channels (e.g., grayscale or RGB split into 2)\n",
        "\n",
        "45 → frames per video\n",
        "\n",
        "5 × 6 → frame height × frame width"
      ],
      "metadata": {
        "id": "IQUyBoIlYCkE"
      }
    }
  ]
}